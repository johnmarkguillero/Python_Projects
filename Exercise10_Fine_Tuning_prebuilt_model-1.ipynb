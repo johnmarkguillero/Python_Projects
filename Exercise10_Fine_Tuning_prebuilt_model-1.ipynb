{
  "nbformat": 4,
  "nbformat_minor": 0,
  "metadata": {
    "colab": {
      "provenance": []
    },
    "kernelspec": {
      "name": "python3",
      "display_name": "Python 3"
    },
    "language_info": {
      "name": "python"
    }
  },
  "cells": [
    {
      "cell_type": "markdown",
      "source": [
        "*   Adjust the num_classes in the Dense layer based on the number of classes in your specific task.\n",
        "\n",
        "*   Replace 'path_to_training_data' and 'path_to_validation_data' with the actual paths to your training and validation datasets.\n",
        "\n",
        "This code uses the VGG16 model pre-trained on ImageNet, replaces the top layers with custom layers for the new task, freezes the pre-trained layers, and fine-tunes the model on a new dataset using the fit method. Adjust the optimizer, loss function, and other parameters based on your specific requirements."
      ],
      "metadata": {
        "id": "-YV3WKS9gpCQ"
      }
    },
    {
      "cell_type": "code",
      "execution_count": null,
      "metadata": {
        "id": "MxL35vuVf4Tn"
      },
      "outputs": [],
      "source": [
        "import tensorflow as tf\n",
        "from tensorflow.keras.applications import VGG16\n",
        "from tensorflow.keras.preprocessing import image\n",
        "from tensorflow.keras.models import Model\n",
        "from tensorflow.keras.layers import Dense, GlobalAveragePooling2D\n",
        "from tensorflow.keras.optimizers import SGD\n",
        "from tensorflow.keras.preprocessing.image import ImageDataGenerator\n",
        "\n",
        "# Load pre-trained VGG16 model without top (fully connected) layers\n",
        "base_model = VGG16(weights='imagenet', include_top=False, input_shape=(224, 224, 3))\n",
        "\n",
        "# Freeze the layers of the pre-trained model\n",
        "for layer in base_model.layers:\n",
        "    layer.trainable = False\n",
        "\n",
        "# Add custom top layers for the new task\n",
        "num_classes = 3\n",
        "x = base_model.output\n",
        "x = GlobalAveragePooling2D()(x)\n",
        "x = Dense(1024, activation='relu')(x)\n",
        "predictions = Dense(num_classes, activation='softmax')(x)  # Adjust num_classes for your specific task\n",
        "\n",
        "# Create the final model\n",
        "model = Model(inputs=base_model.input, outputs=predictions)\n",
        "\n",
        "# Compile the model\n",
        "model.compile(optimizer=SGD(lr=0.0001, momentum=0.9), loss='categorical_crossentropy', metrics=['accuracy'])\n",
        "\n",
        "# Fine-tune the model on a new dataset\n",
        "train_datagen = ImageDataGenerator(rescale=1./255, shear_range=0.2, zoom_range=0.2, horizontal_flip=True)\n",
        "test_datagen = ImageDataGenerator(rescale=1./255)\n",
        "\n",
        "train_generator = train_datagen.flow_from_directory(r'E:/ProcessedData/training_data', target_size=(224, 224), batch_size=32, class_mode='categorical')\n",
        "validation_generator = test_datagen.flow_from_directory(r'E:/ProcessedData/validation_data', target_size=(224, 224), batch_size=32, class_mode='categorical')\n",
        "\n",
        "model.fit(train_generator, steps_per_epoch=len(train_generator), epochs=10, validation_data=validation_generator, validation_steps=len(validation_generator))\n"
      ]
    }
  ]
}