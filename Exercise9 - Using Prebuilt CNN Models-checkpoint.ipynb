{
 "cells": [
  {
   "cell_type": "code",
   "execution_count": 4,
   "id": "0224af16",
   "metadata": {},
   "outputs": [],
   "source": [
    "import tkinter as tk\n",
    "from tkinter import filedialog\n",
    "from tensorflow.keras.preprocessing import image\n",
    "from tensorflow.keras.applications.vgg16 import VGG16, preprocess_input, decode_predictions\n",
    "import numpy as np\n",
    "from PIL import ImageTk, Image\n",
    "\n",
    "# Load the pre-trained VGG16 model\n",
    "model = VGG16(weights='imagenet')\n",
    "\n",
    "def open_file_dialog():\n",
    "    file_path = filedialog.askopenfilename()\n",
    "    classify_image(file_path)\n",
    "\n",
    "def classify_image(img_path):\n",
    "    # Load and preprocess the input image\n",
    "    img = image.load_img(img_path, target_size=(224, 224))\n",
    "    img_array = image.img_to_array(img)\n",
    "    img_array = np.expand_dims(img_array, axis=0)\n",
    "    img_array = preprocess_input(img_array)\n",
    "\n",
    "    # Make predictions\n",
    "    predictions = model.predict(img_array)\n",
    "\n",
    "    # Decode and print the top-3 predicted classes\n",
    "    decoded_predictions = decode_predictions(predictions, top=3)[0]\n",
    "    result_text.set(\"Predictions:\\n\")\n",
    "    for i, (imagenet_id, label, score) in enumerate(decoded_predictions):\n",
    "        result_text.set(result_text.get() + f\"{i + 1}: {label} ({score:.2f})\\n\")\n",
    "\n",
    "    # Display the selected image\n",
    "    img = Image.open(img_path)\n",
    "    img = img.resize((300, 300), Image.ANTIALIAS)\n",
    "    img = ImageTk.PhotoImage(img)\n",
    "    panel = tk.Label(window, image=img)\n",
    "    panel.image = img\n",
    "    panel.grid(row=2, column=0, columnspan=2)\n",
    "\n",
    "# Create a GUI window\n",
    "window = tk.Tk()\n",
    "window.title(\"Demo Image Classification using VGG16 Prebuilt CNN Model\")\n",
    "\n",
    "# Button to open file dialog\n",
    "btn_open_file = tk.Button(window, text=\"Click here to Open an Image\", command=open_file_dialog)\n",
    "btn_open_file.grid(row=0, column=0, pady=10)\n",
    "\n",
    "# Text to display predictions\n",
    "result_text = tk.StringVar()\n",
    "result_label = tk.Label(window, textvariable=result_text)\n",
    "result_label.grid(row=1, column=0, columnspan=2, pady=10)\n",
    "\n",
    "# Run the GUI\n",
    "window.mainloop()\n",
    "\n"
   ]
  },
  {
   "cell_type": "code",
   "execution_count": null,
   "id": "7f8e2767",
   "metadata": {},
   "outputs": [],
   "source": []
  }
 ],
 "metadata": {
  "kernelspec": {
   "display_name": "Python 3 (ipykernel)",
   "language": "python",
   "name": "python3"
  },
  "language_info": {
   "codemirror_mode": {
    "name": "ipython",
    "version": 3
   },
   "file_extension": ".py",
   "mimetype": "text/x-python",
   "name": "python",
   "nbconvert_exporter": "python",
   "pygments_lexer": "ipython3",
   "version": "3.9.13"
  }
 },
 "nbformat": 4,
 "nbformat_minor": 5
}
