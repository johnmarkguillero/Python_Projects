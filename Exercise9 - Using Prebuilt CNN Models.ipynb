{
 "cells": [
  {
   "cell_type": "code",
   "execution_count": 2,
   "id": "0224af16",
   "metadata": {},
   "outputs": [
    {
     "name": "stdout",
     "output_type": "stream",
     "text": [
      "1/1 [==============================] - 2s 2s/step\n"
     ]
    },
    {
     "name": "stderr",
     "output_type": "stream",
     "text": [
      "C:\\Users\\johnmark\\AppData\\Local\\Temp\\ipykernel_8380\\2204974883.py:50: DeprecationWarning: ANTIALIAS is deprecated and will be removed in Pillow 10 (2023-07-01). Use Resampling.LANCZOS instead.\n",
      "  img = img.resize((300, 300), Image.ANTIALIAS)\n"
     ]
    },
    {
     "name": "stdout",
     "output_type": "stream",
     "text": [
      "1/1 [==============================] - 1s 612ms/step\n",
      "1/1 [==============================] - 1s 526ms/step\n"
     ]
    },
    {
     "name": "stderr",
     "output_type": "stream",
     "text": [
      "Exception in Tkinter callback\n",
      "Traceback (most recent call last):\n",
      "  File \"D:\\Anaconda\\lib\\tkinter\\__init__.py\", line 1892, in __call__\n",
      "    return self.func(*args)\n",
      "  File \"C:\\Users\\johnmark\\AppData\\Local\\Temp\\ipykernel_8380\\2204974883.py\", line 27, in open_file_dialog\n",
      "    classify_image(file_path)\n",
      "  File \"C:\\Users\\johnmark\\AppData\\Local\\Temp\\ipykernel_8380\\2204974883.py\", line 31, in classify_image\n",
      "    img = image.load_img(img_path, target_size=(224, 224))\n",
      "  File \"D:\\Anaconda\\lib\\site-packages\\keras\\src\\utils\\image_utils.py\", line 422, in load_img\n",
      "    with open(path, \"rb\") as f:\n",
      "FileNotFoundError: [Errno 2] No such file or directory: ''\n"
     ]
    },
    {
     "name": "stdout",
     "output_type": "stream",
     "text": [
      "1/1 [==============================] - 1s 601ms/step\n",
      "1/1 [==============================] - 1s 579ms/step\n",
      "1/1 [==============================] - 1s 580ms/step\n",
      "1/1 [==============================] - 1s 573ms/step\n",
      "1/1 [==============================] - 1s 556ms/step\n",
      "1/1 [==============================] - 1s 561ms/step\n",
      "1/1 [==============================] - 1s 553ms/step\n",
      "1/1 [==============================] - 1s 558ms/step\n",
      "1/1 [==============================] - 1s 565ms/step\n"
     ]
    }
   ],
   "source": [
    "import tkinter as tk\n",
    "from tkinter import filedialog\n",
    "from tensorflow.keras.preprocessing import image\n",
    "from tensorflow.keras.applications.vgg16 import VGG16, preprocess_input, decode_predictions\n",
    "import numpy as np\n",
    "from PIL import ImageTk, Image\n",
    "import os\n",
    "\n",
    "# Load the pre-trained VGG16 model\n",
    "model = VGG16(weights='imagenet')\n",
    "\n",
    "# Adjust these paths according to your dataset structure\n",
    "dataset_path = r\"C:\\Users\\johnmark\\Downloads\\RiceLeafDiseases_Leaf\\RiceLeafDiseasesDetection\"\n",
    "class_names = os.listdir(dataset_path)\n",
    "\n",
    "# Define the labels for different diseases\n",
    "num_samples = len(class_names)\n",
    "label = np.ones((num_samples,), dtype=int)\n",
    "label[:200] = 0  # Bacterial Leaf Blight\n",
    "label[200:400] = 1  # Brown Spot\n",
    "label[400:600] = 2  # Leaf Blast\n",
    "label[600:800] = 3  # Rice Hispa\n",
    "label[800:] = 4  # Sheath Blight\n",
    "\n",
    "def open_file_dialog():\n",
    "    file_path = filedialog.askopenfilename()\n",
    "    classify_image(file_path)\n",
    "\n",
    "def classify_image(img_path):\n",
    "    # Load and preprocess the input image\n",
    "    img = image.load_img(img_path, target_size=(224, 224))\n",
    "    img_array = image.img_to_array(img)\n",
    "    img_array = np.expand_dims(img_array, axis=0)\n",
    "    img_array = preprocess_input(img_array)\n",
    "\n",
    "    # Make predictions\n",
    "    predictions = model.predict(img_array)\n",
    "\n",
    "    # Get the predicted class index\n",
    "    predicted_class_index = np.argmax(predictions)\n",
    "\n",
    "    # Get the corresponding disease label\n",
    "    predicted_disease_label = label[predicted_class_index]\n",
    "\n",
    "    # Display the predicted disease label\n",
    "    result_text.set(\"Predicted Disease Label: \" + str(predicted_disease_label))\n",
    "\n",
    "    # Display the selected image\n",
    "    img = Image.open(img_path)\n",
    "    img = img.resize((300, 300), Image.ANTIALIAS)\n",
    "    img = ImageTk.PhotoImage(img)\n",
    "    panel = tk.Label(window, image=img)\n",
    "    panel.image = img\n",
    "    panel.grid(row=2, column=0, columnspan=2)\n",
    "\n",
    "# Create a GUI window\n",
    "window = tk.Tk()\n",
    "window.title(\"Rice Leaf Diseases Detection - VGG16 Model\")\n",
    "\n",
    "# Button to open file dialog\n",
    "btn_open_file = tk.Button(window, text=\"Click here to Open an Image\", command=open_file_dialog)\n",
    "btn_open_file.grid(row=0, column=0, pady=10)\n",
    "\n",
    "# Text to display predicted disease label\n",
    "result_text = tk.StringVar()\n",
    "result_label = tk.Label(window, textvariable=result_text)\n",
    "result_label.grid(row=1, column=0, columnspan=2, pady=10)\n",
    "\n",
    "# Run the GUI\n",
    "window.mainloop()\n",
    "\n"
   ]
  },
  {
   "cell_type": "code",
   "execution_count": null,
   "id": "7f8e2767",
   "metadata": {},
   "outputs": [],
   "source": []
  }
 ],
 "metadata": {
  "kernelspec": {
   "display_name": "Python 3 (ipykernel)",
   "language": "python",
   "name": "python3"
  },
  "language_info": {
   "codemirror_mode": {
    "name": "ipython",
    "version": 3
   },
   "file_extension": ".py",
   "mimetype": "text/x-python",
   "name": "python",
   "nbconvert_exporter": "python",
   "pygments_lexer": "ipython3",
   "version": "3.9.13"
  }
 },
 "nbformat": 4,
 "nbformat_minor": 5
}
